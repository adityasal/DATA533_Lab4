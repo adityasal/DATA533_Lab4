{
 "cells": [
  {
   "cell_type": "code",
   "execution_count": 2,
   "metadata": {},
   "outputs": [],
   "source": [
    "import unittest\n",
    "\n",
    "from test_Tree import TestTree\n",
    "from test_BST import TestBST"
   ]
  },
  {
   "cell_type": "code",
   "execution_count": 3,
   "metadata": {},
   "outputs": [],
   "source": [
    "def testTree_suite():\n",
    "    suite = unittest.TestSuite()\n",
    "    test_result = unittest.TestResult\n",
    "    suite.addTest(unittest.makeSuite(TestTree))\n",
    "    suite.addTest(unittest.makeSuite(TestBST))\n",
    "    test_runner = unittest.TextTestRunner()\n",
    "    return (test_runner.run(suite))"
   ]
  },
  {
   "cell_type": "code",
   "execution_count": 4,
   "metadata": {},
   "outputs": [
    {
     "name": "stderr",
     "output_type": "stream",
     "text": [
      ".........."
     ]
    },
    {
     "name": "stdout",
     "output_type": "stream",
     "text": [
      "Set Up Class\n",
      "Set Up\n",
      "Teardown\n",
      "Set Up\n",
      "Teardown\n",
      "Set Up\n",
      "Teardown\n",
      "Tear Down Class\n",
      "Set Up Class\n",
      "Set Up\n",
      "Teardown\n",
      "Set Up\n",
      "Teardown\n",
      "Set Up\n",
      "Teardown\n",
      "Set Up\n",
      "Teardown\n",
      "Set Up\n",
      "Teardown\n",
      "Set Up\n",
      "Teardown\n",
      "Set Up\n",
      "Teardown\n",
      "Tear Down Class\n"
     ]
    },
    {
     "name": "stderr",
     "output_type": "stream",
     "text": [
      "\n",
      "----------------------------------------------------------------------\n",
      "Ran 10 tests in 0.007s\n",
      "\n",
      "OK\n"
     ]
    },
    {
     "data": {
      "text/plain": [
       "<unittest.runner.TextTestResult run=10 errors=0 failures=0>"
      ]
     },
     "execution_count": 4,
     "metadata": {},
     "output_type": "execute_result"
    }
   ],
   "source": [
    "testTree_suite()"
   ]
  },
  {
   "cell_type": "code",
   "execution_count": null,
   "metadata": {},
   "outputs": [],
   "source": []
  },
  {
   "cell_type": "code",
   "execution_count": null,
   "metadata": {},
   "outputs": [],
   "source": []
  }
 ],
 "metadata": {
  "kernelspec": {
   "display_name": "Python 3",
   "language": "python",
   "name": "python3"
  },
  "language_info": {
   "codemirror_mode": {
    "name": "ipython",
    "version": 3
   },
   "file_extension": ".py",
   "mimetype": "text/x-python",
   "name": "python",
   "nbconvert_exporter": "python",
   "pygments_lexer": "ipython3",
   "version": "3.8.3"
  }
 },
 "nbformat": 4,
 "nbformat_minor": 4
}
