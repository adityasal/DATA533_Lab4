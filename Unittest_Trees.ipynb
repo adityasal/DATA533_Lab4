{
 "cells": [
  {
   "cell_type": "code",
   "execution_count": 6,
   "metadata": {},
   "outputs": [],
   "source": [
    "import unittest\n",
    "\n",
    "from graphsTrees.trees.node import Node\n",
    "from graphsTrees.trees.tree import Tree\n",
    "from graphsTrees.trees.bst import BST"
   ]
  },
  {
   "cell_type": "code",
   "execution_count": 7,
   "metadata": {},
   "outputs": [],
   "source": [
    "class TestTree (unittest.TestCase):\n",
    "    \n",
    "    @classmethod\n",
    "    def setUpClass(cls):\n",
    "        print('Set Up Class')\n",
    "    \n",
    "    @classmethod \n",
    "    def tearDownClass(cls):\n",
    "        print('Tear Down Class')\n",
    "    \n",
    "    def setUp(self):\n",
    "        print('Set Up')\n",
    "        self.t1 = Tree()\n",
    "        self.t2 = Tree()\n",
    "        self.t3 = Tree()\n",
    "        \n",
    "    def tearDown(self):\n",
    "        print('Teardown')\n",
    "    \n",
    "    def test_create_node(self):\n",
    "        t1_root_node = self.t1.create_node(5)\n",
    "        t1_root_node.left = 11\n",
    "        \n",
    "        self.assertIsInstance(self.t1,Tree)\n",
    "        self.assertIsInstance(t1_root_node,Node)\n",
    "        self.assertEqual(t1_root_node.key,5)\n",
    "        self.assertEqual(t1_root_node.left,11)\n",
    "    \n",
    "    def test_insert(self):\n",
    "        t2_root_node = self.t2.create_node(10)\n",
    "        self.t2.insert(t2_root_node,23)\n",
    "        self.t2.insert(t2_root_node,0)\n",
    "        \n",
    "        self.assertIsInstance(self.t2,Tree)\n",
    "        self.assertIsInstance(t2_root_node,Node)\n",
    "        self.assertEqual(t2_root_node.left.key,23)\n",
    "        self.assertEqual(t2_root_node.left.left.key,0)\n",
    "    \n",
    "    def test_search_node(self):\n",
    "        t3_root_node = self.t3.create_node(1)\n",
    "        self.t3.insert(t3_root_node,15)\n",
    "        \n",
    "        self.assertIsInstance(self.t3,Tree)\n",
    "        self.assertIsInstance(t3_root_node,Node)\n",
    "        self.assertEqual(self.t3.search_node(t3_root_node,15),\"Node 15 exists\")\n",
    "        self.assertEqual(self.t3.search_node(t3_root_node,0),\"Node 0 does not exist\")"
   ]
  },
  {
   "cell_type": "code",
   "execution_count": 8,
   "metadata": {},
   "outputs": [
    {
     "name": "stderr",
     "output_type": "stream",
     "text": [
      "test_create_node (__main__.TestBST) ... ok\n",
      "test_delete_node (__main__.TestBST) ... ok\n",
      "test_inorder (__main__.TestBST) ... ok\n",
      "test_insert (__main__.TestBST) ... ok\n",
      "test_postorder (__main__.TestBST) ... ok\n",
      "test_preorder (__main__.TestBST) ... ok\n",
      "test_search_node (__main__.TestBST) ... ok\n",
      "test_create_node (__main__.TestTree) ... ok\n",
      "test_insert (__main__.TestTree) ... ok\n",
      "test_search_node (__main__.TestTree) ... "
     ]
    },
    {
     "name": "stdout",
     "output_type": "stream",
     "text": [
      "Set Up Class\n",
      "Set Up\n",
      "Teardown\n",
      "Set Up\n",
      "Teardown\n",
      "Set Up\n",
      "Teardown\n",
      "Set Up\n",
      "Teardown\n",
      "Set Up\n",
      "Teardown\n",
      "Set Up\n",
      "Teardown\n",
      "Set Up\n",
      "Teardown\n",
      "Tear Down Class\n",
      "Set Up Class\n",
      "Set Up\n",
      "Teardown\n",
      "Set Up\n",
      "Teardown\n",
      "Set Up\n",
      "Teardown\n",
      "Tear Down Class\n"
     ]
    },
    {
     "name": "stderr",
     "output_type": "stream",
     "text": [
      "ok\n",
      "\n",
      "----------------------------------------------------------------------\n",
      "Ran 10 tests in 0.007s\n",
      "\n",
      "OK\n"
     ]
    },
    {
     "data": {
      "text/plain": [
       "<unittest.main.TestProgram at 0x110632d00>"
      ]
     },
     "execution_count": 8,
     "metadata": {},
     "output_type": "execute_result"
    }
   ],
   "source": [
    "unittest.main(argv=[''],verbosity=2,exit=False)"
   ]
  },
  {
   "cell_type": "code",
   "execution_count": 9,
   "metadata": {},
   "outputs": [],
   "source": [
    "class TestBST (unittest.TestCase):\n",
    "    \n",
    "    @classmethod\n",
    "    def setUpClass(cls):\n",
    "        print('Set Up Class')\n",
    "    \n",
    "    @classmethod \n",
    "    def tearDownClass(cls):\n",
    "        print('Tear Down Class')\n",
    "    \n",
    "    def setUp(self):\n",
    "        print('Set Up')\n",
    "        self.bst1 = BST()\n",
    "        self.bst2 = BST()\n",
    "        self.bst3 = BST()\n",
    "        self.bst4 = BST()\n",
    "        self.bst5 = BST()\n",
    "        self.bst6 = BST()\n",
    "        self.bst7 = BST()\n",
    "        \n",
    "        \n",
    "    def tearDown(self):\n",
    "        print('Teardown')\n",
    "    \n",
    "    def test_create_node(self):\n",
    "        bst1_root_node = self.bst1.create_node(5)\n",
    "        bst1_root_node.left = 11\n",
    "        \n",
    "        self.assertIsInstance(self.bst1,BST)\n",
    "        self.assertIsInstance(bst1_root_node,Node)\n",
    "        self.assertEqual(bst1_root_node.key,5)\n",
    "        self.assertEqual(bst1_root_node.left,11)\n",
    "    \n",
    "    def test_insert(self):\n",
    "        bst2_root_node = self.bst2.create_node(10)\n",
    "        self.bst2.insert(bst2_root_node,23)\n",
    "        self.bst2.insert(bst2_root_node,0)\n",
    "        \n",
    "        self.assertIsInstance(self.bst2,BST)\n",
    "        self.assertIsInstance(bst2_root_node,Node)\n",
    "        self.assertEqual(bst2_root_node.right.key,23)\n",
    "        self.assertEqual(bst2_root_node.left.key,0)\n",
    "    \n",
    "    def test_search_node(self):\n",
    "        bst3_root_node = self.bst3.create_node(1)\n",
    "        self.bst3.insert(bst3_root_node,15)\n",
    "        \n",
    "        self.assertIsInstance(self.bst3,BST)\n",
    "        self.assertIsInstance(bst3_root_node,Node)\n",
    "        self.assertEqual(self.bst3.search_node(bst3_root_node,15),\"Node 15 exists\")\n",
    "        self.assertEqual(self.bst3.search_node(bst3_root_node,0),\"Node 0 does not exist\")\n",
    "    \n",
    "    def test_delete_node(self):\n",
    "        bst4_root_node = self.bst4.create_node(10)\n",
    "        self.bst4.insert(bst4_root_node,23)\n",
    "        self.bst4.insert(bst4_root_node,0)\n",
    "        \n",
    "        self.assertIsInstance(self.bst4,BST)\n",
    "        self.assertIsInstance(bst4_root_node,Node)\n",
    "        self.assertEqual(bst4_root_node.right.key,23)\n",
    "        self.assertEqual(bst4_root_node.left.key,0)    \n",
    "        \n",
    "        self.bst4.delete_node(bst4_root_node,23)\n",
    "        \n",
    "        self.assertEqual(bst4_root_node.right,None)\n",
    "        self.assertEqual(bst4_root_node.left.key,0)  \n",
    "    \n",
    "    def test_preorder(self):\n",
    "        bst5_root_node = self.bst5.create_node(10)\n",
    "        self.bst5.insert(bst5_root_node,23)\n",
    "        self.bst5.insert(bst5_root_node,0)\n",
    "        \n",
    "        self.bst5.preorder(bst5_root_node)\n",
    "        \n",
    "        self.assertIsInstance(self.bst5,BST)\n",
    "        self.assertIsInstance(bst5_root_node,Node)\n",
    "        self.assertIsInstance(self.bst5.get_preorder(),list)\n",
    "        self.assertEqual(self.bst5.get_preorder(),[10, 0, 23])\n",
    "    \n",
    "    def test_inorder(self):\n",
    "        bst6_root_node = self.bst6.create_node(10)\n",
    "        self.bst6.insert(bst6_root_node,23)\n",
    "        self.bst6.insert(bst6_root_node,0)\n",
    "        \n",
    "        self.bst6.inorder(bst6_root_node)\n",
    "        \n",
    "        self.assertIsInstance(self.bst6,BST)\n",
    "        self.assertIsInstance(bst6_root_node,Node)\n",
    "        self.assertIsInstance(self.bst6.get_inorder(),list)\n",
    "        self.assertEqual(self.bst6.get_inorder(),[0, 10, 23])\n",
    "    \n",
    "    def test_postorder(self):\n",
    "        bst7_root_node = self.bst7.create_node(10)\n",
    "        self.bst7.insert(bst7_root_node,23)\n",
    "        self.bst7.insert(bst7_root_node,0)\n",
    "        \n",
    "        self.bst7.postorder(bst7_root_node)\n",
    "        \n",
    "        self.assertIsInstance(self.bst7,BST)\n",
    "        self.assertIsInstance(bst7_root_node,Node)\n",
    "        self.assertIsInstance(self.bst7.get_postorder(),list)\n",
    "        self.assertEqual(self.bst7.get_postorder(),[0, 23, 10])"
   ]
  },
  {
   "cell_type": "code",
   "execution_count": 5,
   "metadata": {},
   "outputs": [
    {
     "name": "stderr",
     "output_type": "stream",
     "text": [
      "test_create_node (__main__.TestBST) ... ok\n",
      "test_delete_node (__main__.TestBST) ... ok\n",
      "test_inorder (__main__.TestBST) ... ok\n",
      "test_insert (__main__.TestBST) ... ok\n",
      "test_postorder (__main__.TestBST) ... ok\n",
      "test_preorder (__main__.TestBST) ... ok\n",
      "test_search_node (__main__.TestBST) ... ok\n",
      "test_create_node (__main__.TestTree) ... ok\n",
      "test_insert (__main__.TestTree) ... ok\n",
      "test_search_node (__main__.TestTree) ... "
     ]
    },
    {
     "name": "stdout",
     "output_type": "stream",
     "text": [
      "Set Up Class\n",
      "Set Up\n",
      "Teardown\n",
      "Set Up\n",
      "Teardown\n",
      "Set Up\n",
      "Teardown\n",
      "Set Up\n",
      "Teardown\n",
      "Set Up\n",
      "Teardown\n",
      "Set Up\n",
      "Teardown\n",
      "Set Up\n",
      "Teardown\n",
      "Tear Down Class\n",
      "Set Up Class\n",
      "Set Up\n",
      "Teardown\n",
      "Set Up\n",
      "Teardown\n",
      "Set Up\n",
      "Teardown\n",
      "Tear Down Class\n"
     ]
    },
    {
     "name": "stderr",
     "output_type": "stream",
     "text": [
      "ok\n",
      "\n",
      "----------------------------------------------------------------------\n",
      "Ran 10 tests in 0.007s\n",
      "\n",
      "OK\n"
     ]
    },
    {
     "data": {
      "text/plain": [
       "<unittest.main.TestProgram at 0x10f59d790>"
      ]
     },
     "execution_count": 5,
     "metadata": {},
     "output_type": "execute_result"
    }
   ],
   "source": [
    "unittest.main(argv=[''],verbosity=2,exit=False)"
   ]
  },
  {
   "cell_type": "code",
   "execution_count": null,
   "metadata": {},
   "outputs": [],
   "source": []
  },
  {
   "cell_type": "code",
   "execution_count": null,
   "metadata": {},
   "outputs": [],
   "source": []
  }
 ],
 "metadata": {
  "kernelspec": {
   "display_name": "Python 3",
   "language": "python",
   "name": "python3"
  },
  "language_info": {
   "codemirror_mode": {
    "name": "ipython",
    "version": 3
   },
   "file_extension": ".py",
   "mimetype": "text/x-python",
   "name": "python",
   "nbconvert_exporter": "python",
   "pygments_lexer": "ipython3",
   "version": "3.8.3"
  }
 },
 "nbformat": 4,
 "nbformat_minor": 4
}
